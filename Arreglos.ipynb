{
  "nbformat": 4,
  "nbformat_minor": 0,
  "metadata": {
    "colab": {
      "provenance": [],
      "authorship_tag": "ABX9TyPLtd5QiS20K+WBMG7XCJOU",
      "include_colab_link": true
    },
    "kernelspec": {
      "name": "python3",
      "display_name": "Python 3"
    },
    "language_info": {
      "name": "python"
    }
  },
  "cells": [
    {
      "cell_type": "markdown",
      "metadata": {
        "id": "view-in-github",
        "colab_type": "text"
      },
      "source": [
        "<a href=\"https://colab.research.google.com/github/saxmdc/arreglos_clase_11_08_2025/blob/main/Arreglos.ipynb\" target=\"_parent\"><img src=\"https://colab.research.google.com/assets/colab-badge.svg\" alt=\"Open In Colab\"/></a>"
      ]
    },
    {
      "cell_type": "code",
      "execution_count": null,
      "metadata": {
        "id": "WNyZPFUde5BV"
      },
      "outputs": [],
      "source": []
    },
    {
      "cell_type": "markdown",
      "source": [
        "\n",
        "![arreglo.png](data:image/png;base64,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)\n",
        "Formacion y entendimiento de Arreglos\n"
      ],
      "metadata": {
        "id": "vrKBS48kf1Rx"
      }
    },
    {
      "cell_type": "code",
      "source": [
        "import numpy as np\n",
        "vector = np.array([1, 2, 3])\n",
        "print(vector)\n",
        "\n",
        "\n",
        "print(\"version  \", np.__version__)\n",
        "print(\"tipo de dato  \", type(vector))\n",
        "print(\"dimension  \", vector.ndim)\n",
        "print(\"forma  \", vector.shape)\n",
        "#crear vector de ceros\n",
        "vector_ceros = np.zero(5)\n",
        "print(\" vector de ceros \", vector_ceros)\n",
        "#Crear vector para llenar con unos\n",
        "vector_unos = np.ones(5)\n",
        "print(\"vector de unos  \", vector_unos)\n",
        "#Crear vector con un rango de numeros\n",
        "vector_rango = np.arange(10)\n",
        "print(\"vector con rango\", vector_rango)"
      ],
      "metadata": {
        "id": "9CQBsOL9gbIp"
      },
      "execution_count": null,
      "outputs": []
    },
    {
      "cell_type": "code",
      "source": [
        "import numpy as np\n",
        "vector = np.arange(20)\n",
        "vector1 = np.random.rand(1,20)\n",
        "print(\"rango\", vector)\n",
        "print(\"Se llena aleatoriamente numeros reales\", vector1)\n",
        "vector2 = np.random.randint(1,100,10) #Llena numero aleatorios del 1 al 10 pero de un rango del 1 al 100\n",
        "print(\"aleatoria enteros:\",vector2)\n",
        "print(vector2.shape)\n",
        "\n",
        "#suma de vectores\n",
        "resultadovector = vector + vector1\n",
        "print(\"suma de vectores\", resultadovector)\n",
        "\n",
        "#multiplicacion\n",
        "resultadovector1 = vector * vector1\n",
        "print(\"multiplicacion de vectores\", resultadovector1)\n",
        "\n",
        "#division\n",
        "resultadovector2 = vector + vector1\n",
        "print(\"Division de vectores\", resultadovector2)\n"
      ],
      "metadata": {
        "colab": {
          "base_uri": "https://localhost:8080/"
        },
        "id": "oiS2vbb2t-bk",
        "outputId": "065602f5-701f-42b8-9a79-e29a028483ce"
      },
      "execution_count": 3,
      "outputs": [
        {
          "output_type": "stream",
          "name": "stdout",
          "text": [
            "rango [ 0  1  2  3  4  5  6  7  8  9 10 11 12 13 14 15 16 17 18 19]\n",
            "Se llena aleatoriamente numeros reales [[0.19556023 0.14844569 0.54358161 0.46176692 0.38598503 0.21327075\n",
            "  0.26820584 0.48295945 0.62076666 0.41675843 0.94983147 0.41250881\n",
            "  0.54772658 0.26258054 0.84862071 0.31129731 0.23269114 0.10960347\n",
            "  0.37564153 0.73180353]]\n",
            "aleatoria enteros: [ 5  1  8  1  3 10  1  5  2  1  8  5  8  9  5  9  3  1  5  3  9  3  9  2\n",
            " 10  1  8  8  3  9  5  5  9  6  5  1  6  5  1  2  2  5  6  6  4  5  4 10\n",
            " 10  3  4  7  7 10  2  6  8  9  1  7  6  1  2  6  6  4  1  8 10  8  5  2\n",
            "  4  2  9  1 10  1  6  2 10  1  9  6  5  1  8  5  2  1  3  1  4  1  9  2\n",
            "  3  4  1  1]\n"
          ]
        }
      ]
    }
  ]
}